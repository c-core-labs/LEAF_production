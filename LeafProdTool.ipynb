{
 "cells": [
  {
   "cell_type": "markdown",
   "metadata": {},
   "source": [
    "## Obtain Credentials (not everytime)\n",
    "\n",
    "Typically, it is necessary to periodically renew your credentials by calling the 'ee.Authenticate()' function. Upon calling this function, a web page will open where you can sign in with your Google account. This step allows Earth Engine to authenticate your identity and associate your API requests with your specific account. After the authentication process is successfully completed, a persistent token will be stored on your local machine. \n",
    "  \n",
    "By calling the 'ee.Initialize()' function in either Step 1A or 1B, the saved credentials will be automatically retrieved, allowing you to make requests through the Earth Engine Python API. This grants you the necessary privileges to access various datasets and perform spatial analysis or processings."
   ]
  },
  {
   "cell_type": "code",
   "execution_count": null,
   "metadata": {},
   "outputs": [],
   "source": [
    "import ee\n",
    "ee.Authenticate()"
   ]
  },
  {
   "cell_type": "markdown",
   "metadata": {},
   "source": [
    "## Step 1A: Initialize with Regular Google Account\n",
    "\n",
    "This is the way when you want to use Google Earth Engine with your regular google account, such as your gmail account. "
   ]
  },
  {
   "cell_type": "code",
   "execution_count": 1,
   "metadata": {},
   "outputs": [
    {
     "name": "stdout",
     "output_type": "stream",
     "text": [
      "\n",
      "<s2_createFeatureCollection_estimates> function is called......\n",
      "\n",
      "<s2_createFeatureCollection_estimates> SL2P version1 is being used......\n"
     ]
    }
   ],
   "source": [
    "import ee\n",
    "ee.Initialize()\n",
    "\n",
    "import geemap\n",
    "import Image\n",
    "import LEAFNets as LFNs"
   ]
  },
  {
   "cell_type": "markdown",
   "metadata": {},
   "source": [
    "## Step 1B: Initialize with Google Service Account\n",
    "\n",
    "Initialze this way with your google service account."
   ]
  },
  {
   "cell_type": "code",
   "execution_count": 1,
   "metadata": {
    "ExecuteTime": {
     "end_time": "2022-04-02T21:10:59.099610Z",
     "start_time": "2022-04-02T21:10:56.619436Z"
    }
   },
   "outputs": [
    {
     "name": "stdout",
     "output_type": "stream",
     "text": [
      "\n",
      "<s2_createFeatureCollection_estimates> function is called......\n",
      "\n",
      "<s2_createFeatureCollection_estimates> SL2P version1 is being used......\n"
     ]
    }
   ],
   "source": [
    "import ee\n",
    "\n",
    "from google.auth import compute_engine\n",
    "credentials = compute_engine.Credentials(service_account_email = '751427818963-compute@developer.gserviceaccount.com', \n",
    "                                         scopes = ['https://www.googleapis.com/auth/earthengine'])\n",
    "\n",
    "ee.Initialize(credentials, project='ccmeo-ag-000007')\n",
    "\n",
    "import geemap\n",
    "import Image\n",
    "import LEAFNets as LFNs"
   ]
  },
  {
   "cell_type": "markdown",
   "metadata": {},
   "source": [
    "## Step 2: Define Input Parameters\n",
    "\n",
    "The execution of the LEAF production tool requires a number of parameters. To facilitate the handling and transfer of the parameters, a Python Dictionary is used as a container. Specifically, there are NINE key:value pairs in the dictionary: \n",
    "   \n",
    "(1) 'sensor' : a string representing a satellite sensor and data unit (always surface reflectance). For exemple, 'S2_SR' and 'L8_SR' represent Sentinel-2 and Landsat-8 surface reflectance, respectively. \n",
    "   \n",
    "(2) 'year' : a four-digit integer representing the year when the images were acquired, for instance, 2020.  \n",
    "   \n",
    "(3) 'months' : a list of month integers (e.g., [6,7,8]), enabling the generation of monthly biophysical products through a single execution of the LEAF production tool. each month integer in the list must fall within the valid range of 1 to 12. Otherwise, an invalid month integer in the list will cause a peak-season (June 15 to September 15) biophysical product is created.      \n",
    "  \n",
    "(4) 'tile_names' : a list of strings representing distinct tiles taht serve as the basic spatial unit within the LEAF production tool. Each tile encompasses an area of 900km x 900km as per the CCRS' tile griding system. By supplying a list of tile name strings, the tool can generate biophysical parameter products for multiple tiles in a single execution.  \n",
    "     \n",
    "(5) 'prod_names' : a list strings standing for different biophysical parameters. Currently, LEAF production tool can be used to generate a subset or a full set of FOUR biophysical parameters ['LAI', 'fCOVER', 'Albedo', 'fAPAR']. \n",
    "   \n",
    "(6) 'resolution' : an integer defining the spatial resolution (in meter) of exported products.\n",
    "   \n",
    "(7) 'location' : a string that specifies the destination of exporting the products. This parameter accepts only two valid strings: 'drive' and 'storage', representing Google Drive and Google Cloud Storage, respectively. \n",
    "   \n",
    "(8) 'bucket' : the name string of a bucket in Google Cloud Storage, which is required as a parameter only when the value for the 'location' key is set to 'storage'.\n",
    "   \n",
    "(9) 'folder' : the folder name string intended for exporting the products in either Google Drive or Google Cloud Storage. If this key is left empty, it indicates that a folder name will be generated automatically using the tile name and acquisition year.   \n",
    "   \n",
    "There are a total of nine parameters need to be defined. Out of these parameters, six of them (with 'sensor', 'year', 'resolution', 'location', 'bucket', and 'folder' as keys) require a single value, while the remaining parameters (with 'months', 'tile_names' and 'prod_names' as keys) need a list of values. By utilizing different combinations of these three lists, various production scenarios can be executed. For example, if the goal is to generate monthly parameter maps (e.g., for July and August) for multiple tiles (e.g., 'tile41', 'tile42', and 'tile43'), two lists need to be provided are [7,8] for 'months' key and ['tile41', 'tile42', 'tile43'] for 'tile_names' key.    "
   ]
  },
  {
   "cell_type": "code",
   "execution_count": 2,
   "metadata": {
    "ExecuteTime": {
     "end_time": "2022-04-02T21:06:31.192679Z",
     "start_time": "2022-04-02T21:06:31.187684Z"
    }
   },
   "outputs": [],
   "source": [
    "params = {\n",
    "    'sensor': 'S2_SR',           # A string indicating sensor and data unit (e.g., 'S2_SR' or 'L8_SR')    \n",
    "    'year': 2020,                # An integer representing image acquisition year\n",
    "    'months': [5,6,7,8,9,10],               # A set of integers represening months (a negative value means whole summer)\n",
    "    'tile_names': ['tile55'],    # A list of tile name strings as per the CCRS' tile griding system\n",
    "    'prod_names': ['LAI'],       # ['LAI','fAPAR','fCOVER','Albedo', 'QC', 'date', 'partition']\n",
    "    'resolution': 200,            # The spatial resultion (in meter) of the exported products\n",
    "    'location': 'drive',         # The destination of exporting the products ('drive' or 'storage')     \n",
    "    'bucket': 'S2_leaf_2021',    # An unique bucket name in GCS (must have been created beforehand)\n",
    "    'folder': 'S2_leaf_test'     # the folder name intended for exporting products in either GD or GCS    \n",
    "}\n"
   ]
  },
  {
   "cell_type": "markdown",
   "metadata": {},
   "source": [
    "## Step 3: Generate and Export Biophysical Products"
   ]
  },
  {
   "cell_type": "code",
   "execution_count": 3,
   "metadata": {
    "ExecuteTime": {
     "end_time": "2022-03-30T02:25:41.239479Z",
     "start_time": "2022-03-30T02:25:17.130556Z"
    }
   },
   "outputs": [
    {
     "name": "stdout",
     "output_type": "stream",
     "text": [
      "\n",
      "<LEAF_production> generate a global LC map.......\n",
      "\n",
      "<get_LC_map> Used LC map is:  projects/ee-lsunott/assets/CanLC2020\n",
      "<Is_export_required>inquired str and prod_low: parti lai\n",
      "\n",
      "<LEAF_production> generate a mosaic for month 5\n",
      "\n",
      "<getCollection> The name of data catalog =  COPERNICUS/S2_SR_HARMONIZED\n",
      "<getCollection> The number of images in selected image collection =  992\n",
      "\n",
      "\n",
      "<score_collection> band names: ['B1', 'B2', 'B3', 'B4', 'B5', 'B6', 'B7', 'B8', 'B8A', 'B9', 'B11', 'B12', 'AOT', 'WVP', 'SCL', 'TCI_R', 'TCI_G', 'TCI_B', 'MSK_CLDPRB', 'MSK_SNWPRB', 'QA10', 'QA20', 'QA60']\n",
      "<score_collection> SWIR1 band name =  B11\n",
      "<score_collection> median_sw1 band name =  ['B11']\n",
      "<score_collection> numb of images =  992\n",
      "<score_collection> band names of 1st scored image =  ['B1', 'B2', 'B3', 'B4', 'B5', 'B6', 'B7', 'B8', 'B8A', 'B9', 'B11', 'B12', 'AOT', 'WVP', 'SCL', 'TCI_R', 'TCI_G', 'TCI_B', 'MSK_CLDPRB', 'MSK_SNWPRB', 'QA10', 'QA20', 'QA60', 'pix_score', 'date', 'cosVZA', 'cosSZA', 'cosRAA']\n",
      "<Is_export_required>inquired str and prod_low: date lai\n",
      "\n",
      "<LEAF_production> Call separate_params function .......\n",
      "\n",
      "\n",
      "<makeIndexLayer> land cover IDs =  [1, 3, 4, 17, 7, 8, 5, 11, 9, 15, 13, 2, 14, 10, 12, 18, 16, 19, 6]\n",
      "<makeIndexLayer> numb of valid classes =  12\n",
      "<makeIndexLayer> LEAF V1 network IDs =  [3, 2, 2, 0, 8, 7, 2, 7, 4, 1, 5, 3, 4, 6, 10, 0, 9, 0, 11]\n",
      "<Image:export_one_map> Exporting biophysical map to Google Drive......\n",
      "\n",
      "\n",
      "<makeIndexLayer> land cover IDs =  [1, 3, 4, 17, 7, 8, 5, 11, 9, 15, 13, 2, 14, 10, 12, 18, 16, 19, 6]\n",
      "<makeIndexLayer> numb of valid classes =  12\n",
      "<makeIndexLayer> LEAF V1 network IDs =  [3, 2, 2, 0, 8, 7, 2, 7, 4, 1, 5, 3, 4, 6, 10, 0, 9, 0, 11]\n",
      "<Image:export_one_map> Exporting biophysical map to Google Drive......\n",
      "\n",
      "\n",
      "<makeIndexLayer> land cover IDs =  [1, 3, 4, 17, 7, 8, 5, 11, 9, 15, 13, 2, 14, 10, 12, 18, 16, 19, 6]\n",
      "<makeIndexLayer> numb of valid classes =  12\n",
      "<makeIndexLayer> LEAF V1 network IDs =  [3, 2, 2, 0, 8, 7, 2, 7, 4, 1, 5, 3, 4, 6, 10, 0, 9, 0, 11]\n",
      "<Image:export_one_map> Exporting biophysical map to Google Drive......\n",
      "\n",
      "\n",
      "<makeIndexLayer> land cover IDs =  [1, 3, 4, 17, 7, 8, 5, 11, 9, 15, 13, 2, 14, 10, 12, 18, 16, 19, 6]\n",
      "<makeIndexLayer> numb of valid classes =  12\n",
      "<makeIndexLayer> LEAF V1 network IDs =  [3, 2, 2, 0, 8, 7, 2, 7, 4, 1, 5, 3, 4, 6, 10, 0, 9, 0, 11]\n",
      "<Image:export_one_map> Exporting biophysical map to Google Drive......\n",
      "<Image:export_one_map> Exporting biophysical map to Google Drive......\n",
      "\n",
      "<LEAF_production> generate a mosaic for month 6\n",
      "\n",
      "<getCollection> The name of data catalog =  COPERNICUS/S2_SR_HARMONIZED\n",
      "<getCollection> The number of images in selected image collection =  1031\n",
      "\n",
      "\n",
      "<score_collection> band names: ['B1', 'B2', 'B3', 'B4', 'B5', 'B6', 'B7', 'B8', 'B8A', 'B9', 'B11', 'B12', 'AOT', 'WVP', 'SCL', 'TCI_R', 'TCI_G', 'TCI_B', 'MSK_CLDPRB', 'MSK_SNWPRB', 'QA10', 'QA20', 'QA60']\n",
      "<score_collection> SWIR1 band name =  B11\n",
      "<score_collection> median_sw1 band name =  ['B11']\n",
      "<score_collection> numb of images =  1031\n",
      "<score_collection> band names of 1st scored image =  ['B1', 'B2', 'B3', 'B4', 'B5', 'B6', 'B7', 'B8', 'B8A', 'B9', 'B11', 'B12', 'AOT', 'WVP', 'SCL', 'TCI_R', 'TCI_G', 'TCI_B', 'MSK_CLDPRB', 'MSK_SNWPRB', 'QA10', 'QA20', 'QA60', 'pix_score', 'date', 'cosVZA', 'cosSZA', 'cosRAA']\n",
      "<Is_export_required>inquired str and prod_low: date lai\n",
      "\n",
      "<LEAF_production> Call separate_params function .......\n",
      "\n",
      "\n",
      "<makeIndexLayer> land cover IDs =  [1, 3, 4, 17, 7, 8, 5, 11, 9, 15, 13, 2, 14, 10, 12, 18, 16, 19, 6]\n",
      "<makeIndexLayer> numb of valid classes =  12\n",
      "<makeIndexLayer> LEAF V1 network IDs =  [3, 2, 2, 0, 8, 7, 2, 7, 4, 1, 5, 3, 4, 6, 10, 0, 9, 0, 11]\n",
      "<Image:export_one_map> Exporting biophysical map to Google Drive......\n",
      "\n",
      "\n",
      "<makeIndexLayer> land cover IDs =  [1, 3, 4, 17, 7, 8, 5, 11, 9, 15, 13, 2, 14, 10, 12, 18, 16, 19, 6]\n",
      "<makeIndexLayer> numb of valid classes =  12\n",
      "<makeIndexLayer> LEAF V1 network IDs =  [3, 2, 2, 0, 8, 7, 2, 7, 4, 1, 5, 3, 4, 6, 10, 0, 9, 0, 11]\n",
      "<Image:export_one_map> Exporting biophysical map to Google Drive......\n",
      "\n",
      "\n",
      "<makeIndexLayer> land cover IDs =  [1, 3, 4, 17, 7, 8, 5, 11, 9, 15, 13, 2, 14, 10, 12, 18, 16, 19, 6]\n",
      "<makeIndexLayer> numb of valid classes =  12\n",
      "<makeIndexLayer> LEAF V1 network IDs =  [3, 2, 2, 0, 8, 7, 2, 7, 4, 1, 5, 3, 4, 6, 10, 0, 9, 0, 11]\n",
      "<Image:export_one_map> Exporting biophysical map to Google Drive......\n",
      "\n",
      "\n",
      "<makeIndexLayer> land cover IDs =  [1, 3, 4, 17, 7, 8, 5, 11, 9, 15, 13, 2, 14, 10, 12, 18, 16, 19, 6]\n",
      "<makeIndexLayer> numb of valid classes =  12\n",
      "<makeIndexLayer> LEAF V1 network IDs =  [3, 2, 2, 0, 8, 7, 2, 7, 4, 1, 5, 3, 4, 6, 10, 0, 9, 0, 11]\n",
      "<Image:export_one_map> Exporting biophysical map to Google Drive......\n",
      "<Image:export_one_map> Exporting biophysical map to Google Drive......\n",
      "\n",
      "<LEAF_production> generate a mosaic for month 7\n",
      "\n",
      "<getCollection> The name of data catalog =  COPERNICUS/S2_SR_HARMONIZED\n",
      "<getCollection> The number of images in selected image collection =  1064\n",
      "\n",
      "\n",
      "<score_collection> band names: ['B1', 'B2', 'B3', 'B4', 'B5', 'B6', 'B7', 'B8', 'B8A', 'B9', 'B11', 'B12', 'AOT', 'WVP', 'SCL', 'TCI_R', 'TCI_G', 'TCI_B', 'MSK_CLDPRB', 'MSK_SNWPRB', 'QA10', 'QA20', 'QA60']\n",
      "<score_collection> SWIR1 band name =  B11\n",
      "<score_collection> median_sw1 band name =  ['B11']\n",
      "<score_collection> numb of images =  1064\n",
      "<score_collection> band names of 1st scored image =  ['B1', 'B2', 'B3', 'B4', 'B5', 'B6', 'B7', 'B8', 'B8A', 'B9', 'B11', 'B12', 'AOT', 'WVP', 'SCL', 'TCI_R', 'TCI_G', 'TCI_B', 'MSK_CLDPRB', 'MSK_SNWPRB', 'QA10', 'QA20', 'QA60', 'pix_score', 'date', 'cosVZA', 'cosSZA', 'cosRAA']\n",
      "<Is_export_required>inquired str and prod_low: date lai\n",
      "\n",
      "<LEAF_production> Call separate_params function .......\n",
      "\n",
      "\n",
      "<makeIndexLayer> land cover IDs =  [1, 3, 4, 17, 7, 8, 5, 11, 9, 15, 13, 2, 14, 10, 12, 18, 16, 19, 6]\n",
      "<makeIndexLayer> numb of valid classes =  12\n",
      "<makeIndexLayer> LEAF V1 network IDs =  [3, 2, 2, 0, 8, 7, 2, 7, 4, 1, 5, 3, 4, 6, 10, 0, 9, 0, 11]\n",
      "<Image:export_one_map> Exporting biophysical map to Google Drive......\n",
      "\n",
      "\n",
      "<makeIndexLayer> land cover IDs =  [1, 3, 4, 17, 7, 8, 5, 11, 9, 15, 13, 2, 14, 10, 12, 18, 16, 19, 6]\n",
      "<makeIndexLayer> numb of valid classes =  12\n",
      "<makeIndexLayer> LEAF V1 network IDs =  [3, 2, 2, 0, 8, 7, 2, 7, 4, 1, 5, 3, 4, 6, 10, 0, 9, 0, 11]\n",
      "<Image:export_one_map> Exporting biophysical map to Google Drive......\n",
      "\n",
      "\n",
      "<makeIndexLayer> land cover IDs =  [1, 3, 4, 17, 7, 8, 5, 11, 9, 15, 13, 2, 14, 10, 12, 18, 16, 19, 6]\n",
      "<makeIndexLayer> numb of valid classes =  12\n",
      "<makeIndexLayer> LEAF V1 network IDs =  [3, 2, 2, 0, 8, 7, 2, 7, 4, 1, 5, 3, 4, 6, 10, 0, 9, 0, 11]\n",
      "<Image:export_one_map> Exporting biophysical map to Google Drive......\n",
      "\n",
      "\n",
      "<makeIndexLayer> land cover IDs =  [1, 3, 4, 17, 7, 8, 5, 11, 9, 15, 13, 2, 14, 10, 12, 18, 16, 19, 6]\n",
      "<makeIndexLayer> numb of valid classes =  12\n",
      "<makeIndexLayer> LEAF V1 network IDs =  [3, 2, 2, 0, 8, 7, 2, 7, 4, 1, 5, 3, 4, 6, 10, 0, 9, 0, 11]\n",
      "<Image:export_one_map> Exporting biophysical map to Google Drive......\n",
      "<Image:export_one_map> Exporting biophysical map to Google Drive......\n",
      "\n",
      "<LEAF_production> generate a mosaic for month 8\n",
      "\n",
      "<getCollection> The name of data catalog =  COPERNICUS/S2_SR_HARMONIZED\n",
      "<getCollection> The number of images in selected image collection =  1054\n",
      "\n",
      "\n",
      "<score_collection> band names: ['B1', 'B2', 'B3', 'B4', 'B5', 'B6', 'B7', 'B8', 'B8A', 'B9', 'B11', 'B12', 'AOT', 'WVP', 'SCL', 'TCI_R', 'TCI_G', 'TCI_B', 'MSK_CLDPRB', 'MSK_SNWPRB', 'QA10', 'QA20', 'QA60']\n",
      "<score_collection> SWIR1 band name =  B11\n",
      "<score_collection> median_sw1 band name =  ['B11']\n",
      "<score_collection> numb of images =  1054\n",
      "<score_collection> band names of 1st scored image =  ['B1', 'B2', 'B3', 'B4', 'B5', 'B6', 'B7', 'B8', 'B8A', 'B9', 'B11', 'B12', 'AOT', 'WVP', 'SCL', 'TCI_R', 'TCI_G', 'TCI_B', 'MSK_CLDPRB', 'MSK_SNWPRB', 'QA10', 'QA20', 'QA60', 'pix_score', 'date', 'cosVZA', 'cosSZA', 'cosRAA']\n",
      "<Is_export_required>inquired str and prod_low: date lai\n",
      "\n",
      "<LEAF_production> Call separate_params function .......\n",
      "\n",
      "\n",
      "<makeIndexLayer> land cover IDs =  [1, 3, 4, 17, 7, 8, 5, 11, 9, 15, 13, 2, 14, 10, 12, 18, 16, 19, 6]\n",
      "<makeIndexLayer> numb of valid classes =  12\n",
      "<makeIndexLayer> LEAF V1 network IDs =  [3, 2, 2, 0, 8, 7, 2, 7, 4, 1, 5, 3, 4, 6, 10, 0, 9, 0, 11]\n",
      "<Image:export_one_map> Exporting biophysical map to Google Drive......\n"
     ]
    },
    {
     "name": "stdout",
     "output_type": "stream",
     "text": [
      "\n",
      "\n",
      "<makeIndexLayer> land cover IDs =  [1, 3, 4, 17, 7, 8, 5, 11, 9, 15, 13, 2, 14, 10, 12, 18, 16, 19, 6]\n",
      "<makeIndexLayer> numb of valid classes =  12\n",
      "<makeIndexLayer> LEAF V1 network IDs =  [3, 2, 2, 0, 8, 7, 2, 7, 4, 1, 5, 3, 4, 6, 10, 0, 9, 0, 11]\n",
      "<Image:export_one_map> Exporting biophysical map to Google Drive......\n",
      "\n",
      "\n",
      "<makeIndexLayer> land cover IDs =  [1, 3, 4, 17, 7, 8, 5, 11, 9, 15, 13, 2, 14, 10, 12, 18, 16, 19, 6]\n",
      "<makeIndexLayer> numb of valid classes =  12\n",
      "<makeIndexLayer> LEAF V1 network IDs =  [3, 2, 2, 0, 8, 7, 2, 7, 4, 1, 5, 3, 4, 6, 10, 0, 9, 0, 11]\n",
      "<Image:export_one_map> Exporting biophysical map to Google Drive......\n",
      "\n",
      "\n",
      "<makeIndexLayer> land cover IDs =  [1, 3, 4, 17, 7, 8, 5, 11, 9, 15, 13, 2, 14, 10, 12, 18, 16, 19, 6]\n",
      "<makeIndexLayer> numb of valid classes =  12\n",
      "<makeIndexLayer> LEAF V1 network IDs =  [3, 2, 2, 0, 8, 7, 2, 7, 4, 1, 5, 3, 4, 6, 10, 0, 9, 0, 11]\n",
      "<Image:export_one_map> Exporting biophysical map to Google Drive......\n",
      "<Image:export_one_map> Exporting biophysical map to Google Drive......\n",
      "\n",
      "<LEAF_production> generate a mosaic for month 9\n",
      "\n",
      "<getCollection> The name of data catalog =  COPERNICUS/S2_SR_HARMONIZED\n",
      "<getCollection> The number of images in selected image collection =  979\n",
      "\n",
      "\n",
      "<score_collection> band names: ['B1', 'B2', 'B3', 'B4', 'B5', 'B6', 'B7', 'B8', 'B8A', 'B9', 'B11', 'B12', 'AOT', 'WVP', 'SCL', 'TCI_R', 'TCI_G', 'TCI_B', 'MSK_CLDPRB', 'MSK_SNWPRB', 'QA10', 'QA20', 'QA60']\n",
      "<score_collection> SWIR1 band name =  B11\n",
      "<score_collection> median_sw1 band name =  ['B11']\n",
      "<score_collection> numb of images =  979\n",
      "<score_collection> band names of 1st scored image =  ['B1', 'B2', 'B3', 'B4', 'B5', 'B6', 'B7', 'B8', 'B8A', 'B9', 'B11', 'B12', 'AOT', 'WVP', 'SCL', 'TCI_R', 'TCI_G', 'TCI_B', 'MSK_CLDPRB', 'MSK_SNWPRB', 'QA10', 'QA20', 'QA60', 'pix_score', 'date', 'cosVZA', 'cosSZA', 'cosRAA']\n",
      "<Is_export_required>inquired str and prod_low: date lai\n",
      "\n",
      "<LEAF_production> Call separate_params function .......\n",
      "\n",
      "\n",
      "<makeIndexLayer> land cover IDs =  [1, 3, 4, 17, 7, 8, 5, 11, 9, 15, 13, 2, 14, 10, 12, 18, 16, 19, 6]\n",
      "<makeIndexLayer> numb of valid classes =  12\n",
      "<makeIndexLayer> LEAF V1 network IDs =  [3, 2, 2, 0, 8, 7, 2, 7, 4, 1, 5, 3, 4, 6, 10, 0, 9, 0, 11]\n",
      "<Image:export_one_map> Exporting biophysical map to Google Drive......\n",
      "\n",
      "\n",
      "<makeIndexLayer> land cover IDs =  [1, 3, 4, 17, 7, 8, 5, 11, 9, 15, 13, 2, 14, 10, 12, 18, 16, 19, 6]\n",
      "<makeIndexLayer> numb of valid classes =  12\n",
      "<makeIndexLayer> LEAF V1 network IDs =  [3, 2, 2, 0, 8, 7, 2, 7, 4, 1, 5, 3, 4, 6, 10, 0, 9, 0, 11]\n",
      "<Image:export_one_map> Exporting biophysical map to Google Drive......\n",
      "\n",
      "\n",
      "<makeIndexLayer> land cover IDs =  [1, 3, 4, 17, 7, 8, 5, 11, 9, 15, 13, 2, 14, 10, 12, 18, 16, 19, 6]\n",
      "<makeIndexLayer> numb of valid classes =  12\n",
      "<makeIndexLayer> LEAF V1 network IDs =  [3, 2, 2, 0, 8, 7, 2, 7, 4, 1, 5, 3, 4, 6, 10, 0, 9, 0, 11]\n",
      "<Image:export_one_map> Exporting biophysical map to Google Drive......\n",
      "\n",
      "\n",
      "<makeIndexLayer> land cover IDs =  [1, 3, 4, 17, 7, 8, 5, 11, 9, 15, 13, 2, 14, 10, 12, 18, 16, 19, 6]\n",
      "<makeIndexLayer> numb of valid classes =  12\n",
      "<makeIndexLayer> LEAF V1 network IDs =  [3, 2, 2, 0, 8, 7, 2, 7, 4, 1, 5, 3, 4, 6, 10, 0, 9, 0, 11]\n",
      "<Image:export_one_map> Exporting biophysical map to Google Drive......\n",
      "<Image:export_one_map> Exporting biophysical map to Google Drive......\n",
      "\n",
      "<LEAF_production> generate a mosaic for month 10\n",
      "\n",
      "<getCollection> The name of data catalog =  COPERNICUS/S2_SR_HARMONIZED\n",
      "<getCollection> The number of images in selected image collection =  767\n",
      "\n",
      "\n",
      "<score_collection> band names: ['B1', 'B2', 'B3', 'B4', 'B5', 'B6', 'B7', 'B8', 'B8A', 'B9', 'B11', 'B12', 'AOT', 'WVP', 'SCL', 'TCI_R', 'TCI_G', 'TCI_B', 'MSK_CLDPRB', 'MSK_SNWPRB', 'QA10', 'QA20', 'QA60']\n",
      "<score_collection> SWIR1 band name =  B11\n",
      "<score_collection> median_sw1 band name =  ['B11']\n",
      "<score_collection> numb of images =  767\n",
      "<score_collection> band names of 1st scored image =  ['B1', 'B2', 'B3', 'B4', 'B5', 'B6', 'B7', 'B8', 'B8A', 'B9', 'B11', 'B12', 'AOT', 'WVP', 'SCL', 'TCI_R', 'TCI_G', 'TCI_B', 'MSK_CLDPRB', 'MSK_SNWPRB', 'QA10', 'QA20', 'QA60', 'pix_score', 'date', 'cosVZA', 'cosSZA', 'cosRAA']\n",
      "<Is_export_required>inquired str and prod_low: date lai\n",
      "\n",
      "<LEAF_production> Call separate_params function .......\n",
      "\n",
      "\n",
      "<makeIndexLayer> land cover IDs =  [1, 3, 4, 17, 7, 8, 5, 11, 9, 15, 13, 2, 14, 10, 12, 18, 16, 19, 6]\n",
      "<makeIndexLayer> numb of valid classes =  12\n",
      "<makeIndexLayer> LEAF V1 network IDs =  [3, 2, 2, 0, 8, 7, 2, 7, 4, 1, 5, 3, 4, 6, 10, 0, 9, 0, 11]\n",
      "<Image:export_one_map> Exporting biophysical map to Google Drive......\n",
      "\n",
      "\n",
      "<makeIndexLayer> land cover IDs =  [1, 3, 4, 17, 7, 8, 5, 11, 9, 15, 13, 2, 14, 10, 12, 18, 16, 19, 6]\n",
      "<makeIndexLayer> numb of valid classes =  12\n",
      "<makeIndexLayer> LEAF V1 network IDs =  [3, 2, 2, 0, 8, 7, 2, 7, 4, 1, 5, 3, 4, 6, 10, 0, 9, 0, 11]\n",
      "<Image:export_one_map> Exporting biophysical map to Google Drive......\n",
      "\n",
      "\n",
      "<makeIndexLayer> land cover IDs =  [1, 3, 4, 17, 7, 8, 5, 11, 9, 15, 13, 2, 14, 10, 12, 18, 16, 19, 6]\n",
      "<makeIndexLayer> numb of valid classes =  12\n",
      "<makeIndexLayer> LEAF V1 network IDs =  [3, 2, 2, 0, 8, 7, 2, 7, 4, 1, 5, 3, 4, 6, 10, 0, 9, 0, 11]\n",
      "<Image:export_one_map> Exporting biophysical map to Google Drive......\n",
      "\n",
      "\n",
      "<makeIndexLayer> land cover IDs =  [1, 3, 4, 17, 7, 8, 5, 11, 9, 15, 13, 2, 14, 10, 12, 18, 16, 19, 6]\n",
      "<makeIndexLayer> numb of valid classes =  12\n",
      "<makeIndexLayer> LEAF V1 network IDs =  [3, 2, 2, 0, 8, 7, 2, 7, 4, 1, 5, 3, 4, 6, 10, 0, 9, 0, 11]\n",
      "<Image:export_one_map> Exporting biophysical map to Google Drive......\n",
      "<Image:export_one_map> Exporting biophysical map to Google Drive......\n"
     ]
    }
   ],
   "source": [
    "LFNs.LEAF_production(params)"
   ]
  },
  {
   "cell_type": "markdown",
   "metadata": {},
   "source": [
    "## Step 4: Check the Status of Exporting Tasks (optional)\n",
    "\n",
    "Depending on whether you are using a regular Google account or a Google Service account to operate Google Earth Engine, there are two methods available to monitor the status of exporting tasks. If you're using a regular Google account, you can check the status by either accessing the \"Tasks\" tab located in the right panel of your Earth Engine Code Editor or executing the code provided in the subsequent cell. However, if you're using a Google Service account, the only way to monitor the status of exporting tasks is by running the code in the following cell.\n",
    "\n",
    "The function \"manage_tasks\" requires two input parameters. The first parameter is a string and can take either 'status' or 'cancel' as its value. 'status' is used to check the status of exporting tasks, while 'cancel' is used to cancel all the exporting tasks. The second parameter is a string used to filter task names. For instance, providing '2019' will retrieve tasks with names that include '2019'. "
   ]
  },
  {
   "cell_type": "code",
   "execution_count": 16,
   "metadata": {
    "ExecuteTime": {
     "end_time": "2022-03-30T02:42:09.948875Z",
     "start_time": "2022-03-30T02:42:09.323176Z"
    }
   },
   "outputs": [
    {
     "name": "stdout",
     "output_type": "stream",
     "text": [
      "tile55_2020_Oct_QC_200m: PENDING\n",
      "tile55_2020_Oct_Albedo_200m: PENDING\n",
      "tile55_2020_Oct_fAPAR_200m: PENDING\n",
      "tile55_2020_Oct_fCOVER_200m: PENDING\n",
      "tile55_2020_Oct_LAI_200m: PENDING\n",
      "tile55_2020_Sep_QC_200m: RUNNING\n",
      "tile55_2020_Sep_Albedo_200m: RUNNING\n",
      "tile55_2020_Sep_fAPAR_200m: SUCCEEDED\n",
      "tile55_2020_Sep_fCOVER_200m: RUNNING\n",
      "tile55_2020_Sep_LAI_200m: SUCCEEDED\n",
      "tile55_2020_Aug_QC_200m: SUCCEEDED\n",
      "tile55_2020_Aug_Albedo_200m: SUCCEEDED\n",
      "tile55_2020_Aug_fAPAR_200m: SUCCEEDED\n",
      "tile55_2020_Aug_fCOVER_200m: SUCCEEDED\n",
      "tile55_2020_Aug_LAI_200m: SUCCEEDED\n",
      "tile55_2020_Jul_QC_200m: SUCCEEDED\n",
      "tile55_2020_Jul_Albedo_200m: SUCCEEDED\n",
      "tile55_2020_Jul_fAPAR_200m: SUCCEEDED\n",
      "tile55_2020_Jul_fCOVER_200m: SUCCEEDED\n",
      "tile55_2020_Jul_LAI_200m: SUCCEEDED\n",
      "tile55_2020_Jun_QC_200m: SUCCEEDED\n",
      "tile55_2020_Jun_Albedo_200m: SUCCEEDED\n",
      "tile55_2020_Jun_fAPAR_200m: SUCCEEDED\n",
      "tile55_2020_Jun_fCOVER_200m: SUCCEEDED\n",
      "tile55_2020_Jun_LAI_200m: SUCCEEDED\n",
      "tile55_2020_May_QC_200m: SUCCEEDED\n",
      "tile55_2020_May_Albedo_200m: SUCCEEDED\n",
      "tile55_2020_May_fAPAR_200m: SUCCEEDED\n",
      "tile55_2020_May_fCOVER_200m: SUCCEEDED\n",
      "tile55_2020_May_LAI_200m: SUCCEEDED\n",
      "tile55_2020_May_QC_200m: CANCELLED\n",
      "tile55_2020_May_Albedo_200m: CANCELLED\n",
      "tile55_2020_May_fAPAR_200m: CANCELLED\n",
      "tile55_2020_May_fCOVER_200m: CANCELLED\n",
      "tile55_2020_May_LAI_200m: CANCELLED\n"
     ]
    }
   ],
   "source": [
    "Image.manage_tasks('status', '2020')"
   ]
  },
  {
   "cell_type": "code",
   "execution_count": null,
   "metadata": {},
   "outputs": [],
   "source": []
  }
 ],
 "metadata": {
  "kernelspec": {
   "display_name": "Python 3 (ipykernel)",
   "language": "python",
   "name": "python3"
  },
  "language_info": {
   "codemirror_mode": {
    "name": "ipython",
    "version": 3
   },
   "file_extension": ".py",
   "mimetype": "text/x-python",
   "name": "python",
   "nbconvert_exporter": "python",
   "pygments_lexer": "ipython3",
   "version": "3.9.13"
  },
  "toc": {
   "base_numbering": 1,
   "nav_menu": {},
   "number_sections": true,
   "sideBar": true,
   "skip_h1_title": false,
   "title_cell": "Table of Contents",
   "title_sidebar": "Contents",
   "toc_cell": false,
   "toc_position": {},
   "toc_section_display": true,
   "toc_window_display": false
  },
  "varInspector": {
   "cols": {
    "lenName": 16,
    "lenType": 16,
    "lenVar": 40
   },
   "kernels_config": {
    "python": {
     "delete_cmd_postfix": "",
     "delete_cmd_prefix": "del ",
     "library": "var_list.py",
     "varRefreshCmd": "print(var_dic_list())"
    },
    "r": {
     "delete_cmd_postfix": ") ",
     "delete_cmd_prefix": "rm(",
     "library": "var_list.r",
     "varRefreshCmd": "cat(var_dic_list()) "
    }
   },
   "types_to_exclude": [
    "module",
    "function",
    "builtin_function_or_method",
    "instance",
    "_Feature"
   ],
   "window_display": false
  }
 },
 "nbformat": 4,
 "nbformat_minor": 4
}
