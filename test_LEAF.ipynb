{
 "cells": [
  {
   "cell_type": "code",
   "execution_count": 1,
   "metadata": {
    "ExecuteTime": {
     "end_time": "2022-03-30T01:29:16.925273Z",
     "start_time": "2022-03-30T01:29:14.517249Z"
    }
   },
   "outputs": [],
   "source": [
    "import ee\n",
    "ee.Initialize()\n",
    "\n",
    "\n",
    "import os\n",
    "import sys\n",
    "\n",
    "#Get the absolute path to the parent of current working directory \n",
    "cwd    = os.getcwd()\n",
    "parent = os.path.abspath(os.path.join(cwd, os.pardir))\n",
    "source_path = os.path.join(parent, 'sources')\n",
    "sys.path.append(source_path)\n",
    "\n",
    "sys.path\n",
    "\n",
    "\n",
    "import geemap\n",
    "import ImgMask\n",
    "import Image\n",
    "import ImgSet\n",
    "import Mosaic\n",
    "import LEAFNets\n",
    "\n",
    "import LEAF_LS as LFLS\n",
    "import eoAuxData as eoAD\n",
    "import eoTileGrids as eoTileGD\n",
    "\n",
    "params = {'sensor': 'L8_SR',\n",
    "          'unit': 2, \n",
    "          'year': 2020,\n",
    "          'nYears': 1,\n",
    "          'month': 7,\n",
    "          'tile_name': 'tile42',\n",
    "          'prod_name': 'LAI',\n",
    "          'buff_radius': 10, \n",
    "          'scale': 30,   \n",
    "          'tile_scale': 4,\n",
    "          'location': 'Drive',\n",
    "          'folder': 'test_samples'\n",
    "         }"
   ]
  },
  {
   "cell_type": "markdown",
   "metadata": {},
   "source": [
    "## Test LEAF Tool with Landsat8/9 Data"
   ]
  },
  {
   "cell_type": "code",
   "execution_count": 2,
   "metadata": {
    "scrolled": false
   },
   "outputs": [
    {
     "name": "stdout",
     "output_type": "stream",
     "text": [
      "\n",
      "<get_LC_map> Used LC map is:  projects/ccmeo-ag-000007/assets/CanLC2020\n",
      "\n",
      "\n",
      "<LS_separate_params> property names in used method =  ['childFCList', 'RF', 'system:version', 'system:id', 'system:asset_size']\n",
      "<LS_separate_params> unique biome values =  [0, 1, 10, 2, 3, 5, 6, 7, 9]\n",
      "bands in lai result =  {'type': 'Image', 'bands': [{'id': 'estimate', 'data_type': {'type': 'PixelType', 'precision': 'int', 'min': -32768, 'max': 32767}, 'dimensions': [19, 12], 'origin': [-125, 48], 'crs': 'EPSG:4326', 'crs_transform': [1, 0, 0, 0, 1, 0]}], 'properties': {'system:footprint': {'type': 'Polygon', 'coordinates': [[[-124.2, 56.439], [-118.75, 48.9443], [-106.596, 51.1826], [-109.537, 59.2506], [-124.2, 56.439]]]}}}\n"
     ]
    },
    {
     "data": {
      "text/plain": [
       "'\\nchild_name1 = ee.Number(2056)\\nchild_name2 = ee.Number(1282)\\n\\nmask1 = mosaic.select(\\'childNames\\').eq(child_name1)\\nmask2 = mosaic.select(\\'childNames\\').eq(child_name2)\\n\\nchild_list = ee.List(ee.FeatureCollection(test_method).get(\\'childFCList\\'))\\nused_childFC1 = child_list.filter(ee.Filter.stringContains(\\'system:id\\', child_name1.format(\"%d\"))).get(0)\\nused_childFC2 = child_list.filter(ee.Filter.stringContains(\\'system:id\\', child_name2.format(\"%d\"))).get(0)\\nprint(\\'\\n\\n size of filtered list = \\', used_childFC1.getInfo())\\n\\nestimate1 = LFLS.predictRF(mosaic.updateMask(mask1), used_childFC1).multiply(1000).toInt16().rename(\\'estimate\\')\\nestimate2 = LFLS.predictRF(mosaic.updateMask(mask2), used_childFC2).multiply(1000).toInt16().rename(\\'estimate\\')\\n\\nresultImage = LFLS.estimateResponse(test_method, mosaic, region)\\nprint(\\'resultImage = \\', resultImage.getInfo())\\n\\nexport_dict = {\\'image\\': resultImage,\\n               \\'folder\\': \\'LS8_BioParam_map\\',\\n               \\'description\\': \\'LS8_LAI_map\\',\\n               \\'fileNamePrefix\\': \\'LS8_LAI_map\\',\\n               \\'scale\\': 30,\\n               \\'crs\\': \\'EPSG:3979\\',\\n               \\'maxPixels\\': 1e11,\\n               \\'region\\': region}\\n\\n\\ntask = ee.batch.Export.image.toDrive(**export_dict)\\ntask.start()\\n'"
      ]
     },
     "execution_count": 2,
     "metadata": {},
     "output_type": "execute_result"
    }
   ],
   "source": [
    "region    = eoTileGD.PolygonDict.get(params['tile_name'])  \n",
    "partition = eoAD.get_GlobLC(region, int(params['year']), True)   #create a biome map\n",
    "mosaic    = Mosaic.LEAF_Mosaic(params, region)\n",
    "\n",
    "task_list = []\n",
    "resultImage = LEAFNets.LS_separate_params(params, mosaic, region, partition, task_list)\n",
    "print('bands in lai result = ', resultImage.getInfo())\n",
    "\n",
    "#methodName    = \"NAIVE\"\n",
    "#treeDirectory = \"users/rfernand387/modisLandsatTrees/\"\n",
    "\n",
    "#method = LFLS.constructMethod(methodName, treeDirectory)\n",
    "\n",
    "#mosaic = mosaic.addBands(LFLS.predictRF(mosaic, test_method).multiply(1000).round().rename('childNames')) \n",
    "#print('\\n\\n bands in mosaic = ', mosaic.bandNames().getInfo())\n",
    "\n",
    "'''\n",
    "[10298, 1149, 1171, 1282, 1324, 1345, 1348, 1481, 1507, 1514, 1676, 1688, 1789, 1949, 2056, 2083, 2085, 2128, 2168, 2187, 2258, 2382, 2483, 2669, 2680, 2713, 2818, 2866, 2959, 2968, 2976, 3089, 3187, 3254, 3265, 3304, 3556, 3714, 3886, 4113, 4171, 4542, 4830, 4857, 4862, 5484, 5600, 5748, 6439, 6473, 7182, 7456]\n",
    "\n",
    "'''\n",
    "'''\n",
    "child_name1 = ee.Number(2056)\n",
    "child_name2 = ee.Number(1282)\n",
    "\n",
    "mask1 = mosaic.select('childNames').eq(child_name1)\n",
    "mask2 = mosaic.select('childNames').eq(child_name2)\n",
    "\n",
    "child_list = ee.List(ee.FeatureCollection(test_method).get('childFCList'))\n",
    "used_childFC1 = child_list.filter(ee.Filter.stringContains('system:id', child_name1.format(\"%d\"))).get(0)\n",
    "used_childFC2 = child_list.filter(ee.Filter.stringContains('system:id', child_name2.format(\"%d\"))).get(0)\n",
    "print('\\n\\n size of filtered list = ', used_childFC1.getInfo())\n",
    "\n",
    "estimate1 = LFLS.predictRF(mosaic.updateMask(mask1), used_childFC1).multiply(1000).toInt16().rename('estimate')\n",
    "estimate2 = LFLS.predictRF(mosaic.updateMask(mask2), used_childFC2).multiply(1000).toInt16().rename('estimate')\n",
    "\n",
    "resultImage = LFLS.estimateResponse(test_method, mosaic, region)\n",
    "print('resultImage = ', resultImage.getInfo())\n",
    "\n",
    "export_dict = {'image': resultImage,\n",
    "               'folder': 'LS8_BioParam_map',\n",
    "               'description': 'LS8_LAI_map',\n",
    "               'fileNamePrefix': 'LS8_LAI_map',\n",
    "               'scale': 30,\n",
    "               'crs': 'EPSG:3979',\n",
    "               'maxPixels': 1e11,\n",
    "               'region': region}\n",
    "\n",
    "\n",
    "task = ee.batch.Export.image.toDrive(**export_dict)\n",
    "task.start()\n",
    "'''"
   ]
  },
  {
   "cell_type": "markdown",
   "metadata": {},
   "source": [
    "## Display Tested Results"
   ]
  },
  {
   "cell_type": "code",
   "execution_count": 3,
   "metadata": {
    "ExecuteTime": {
     "end_time": "2022-03-30T01:36:58.555017Z",
     "start_time": "2022-03-30T01:36:58.101034Z"
    }
   },
   "outputs": [
    {
     "data": {
      "application/vnd.jupyter.widget-view+json": {
       "model_id": "c966c52ae29d4244b8f29013349c23ca",
       "version_major": 2,
       "version_minor": 0
      },
      "text/plain": [
       "Map(center=[45.41, -75.72], controls=(WidgetControl(options=['position', 'transparent_bg'], widget=HBox(childr…"
      ]
     },
     "execution_count": 3,
     "metadata": {},
     "output_type": "execute_result"
    }
   ],
   "source": [
    "#color_palette = import('users/gena/packages:palettes').misc.jet[7]\n",
    "\n",
    "LC_vis = {\n",
    "'min': 0,\n",
    "'max': 10000,\n",
    "'palette': ['000000', '006633', 'E5FFCC', '662A00', 'D8D8D8', 'F5F5F5', '555555', '999999', 'CCCCCC', 'FF0000', '00FF00', '0000FF']}\n",
    "\n",
    "LS_vis = {\n",
    " 'min': 0,\n",
    " 'max': 40000,\n",
    " 'gamma': 1.8,\n",
    " 'bands': ['SR_B5', 'SR_B4', 'SR_B3']}\n",
    "\n",
    "S2_vis = {\n",
    " 'min': 0,\n",
    " 'max': 6000,\n",
    " 'gamma': 1.8,\n",
    " 'bands': ['B8A', 'B4', 'B3']}\n",
    "\n",
    "\n",
    "\n",
    "Map = geemap.Map(center=[45.41, -75.72], zoom=4)\n",
    "Map"
   ]
  },
  {
   "cell_type": "code",
   "execution_count": 4,
   "metadata": {
    "ExecuteTime": {
     "end_time": "2022-03-30T01:37:39.157457Z",
     "start_time": "2022-03-30T01:37:38.581399Z"
    }
   },
   "outputs": [],
   "source": [
    "#Map.addLayer(training_set, {'color': 'FFFFFF'}, 'bad samples')\n",
    "#estimate = estimate1.unmask().clip(region).max(estimate2.unmask().clip(region))\n",
    "\n",
    "#Map.addLayer(estimate1, LC_vis, 'estimate1 map')\n",
    "#Map.addLayer(estimate2, LC_vis, 'estimate2 map')\n",
    "Map.addLayer(resultImage, LC_vis, 'estimate map')\n",
    "#Map.addLayer(partition, LC_vis, 'biome map')\n",
    "#Map.addLayer(lai_result, LC_vis, 'leaf map')\n",
    "\n",
    "#Map.addLayer(valid_mask, {'min': 0, 'max': 1, 'palette': ['000000', '00FF00']}, 'valid mask')\n",
    "#Map.addLayer(clear_mask, {'min': 0, 'max': 1, 'palette': ['000000', '0000FF']}, 'clear mask')\n",
    "#Map.addLayer(mask, {'min': 0, 'max': 1, 'palette': ['000000', 'FF0000']}, 'mask')\n",
    "#Map.addLayer(mask, LC_vis, 'mask image')\n",
    "\n",
    "#old_LC_map = LC_map.where(LC_map.neq(ee.Image(17)), ee.Image(0))\n",
    "\n",
    "\n",
    "#Map.addLayer(median_blue, {'min': 0, 'max': 40}, 'blue mosaic')\n",
    "\n",
    "#Map.addLayer(mosaic, LS_vis, 'LS mosaic')\n",
    "\n",
    "#Map.addLayer(classified, {'min': 0, 'max': 1, 'palette': ['000000', '00FF00']}, 'new urban map')\n",
    "\n",
    "#Map.addLayer(st_blocks, LC_vis, 'street block')\n",
    "\n",
    "#Map.addLayer(ON_builds, {'color': 'FFFFFF'}, 'buildings')\n",
    "\n",
    "#Map.addLayer(ON_land_use, {'color': 'FFFFFF'}, 'land use')"
   ]
  }
 ],
 "metadata": {
  "kernelspec": {
   "display_name": "Python 3 (ipykernel)",
   "language": "python",
   "name": "python3"
  },
  "language_info": {
   "codemirror_mode": {
    "name": "ipython",
    "version": 3
   },
   "file_extension": ".py",
   "mimetype": "text/x-python",
   "name": "python",
   "nbconvert_exporter": "python",
   "pygments_lexer": "ipython3",
   "version": "3.9.13"
  },
  "toc": {
   "base_numbering": 1,
   "nav_menu": {},
   "number_sections": true,
   "sideBar": true,
   "skip_h1_title": false,
   "title_cell": "Table of Contents",
   "title_sidebar": "Contents",
   "toc_cell": false,
   "toc_position": {},
   "toc_section_display": true,
   "toc_window_display": false
  },
  "varInspector": {
   "cols": {
    "lenName": 16,
    "lenType": 16,
    "lenVar": 40
   },
   "kernels_config": {
    "python": {
     "delete_cmd_postfix": "",
     "delete_cmd_prefix": "del ",
     "library": "var_list.py",
     "varRefreshCmd": "print(var_dic_list())"
    },
    "r": {
     "delete_cmd_postfix": ") ",
     "delete_cmd_prefix": "rm(",
     "library": "var_list.r",
     "varRefreshCmd": "cat(var_dic_list()) "
    }
   },
   "types_to_exclude": [
    "module",
    "function",
    "builtin_function_or_method",
    "instance",
    "_Feature"
   ],
   "window_display": false
  }
 },
 "nbformat": 4,
 "nbformat_minor": 4
}
